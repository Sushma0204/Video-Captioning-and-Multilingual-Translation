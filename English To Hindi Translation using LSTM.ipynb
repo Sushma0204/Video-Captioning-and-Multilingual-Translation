{
 "cells": [
  {
   "cell_type": "code",
   "execution_count": 1,
   "id": "5bfc89e7-42bd-4cc7-a7ce-fd5fae3abf9e",
   "metadata": {},
   "outputs": [
    {
     "name": "stderr",
     "output_type": "stream",
     "text": [
      "[nltk_data] Downloading package punkt to\n",
      "[nltk_data]     C:\\Users\\yashp\\AppData\\Roaming\\nltk_data...\n",
      "[nltk_data]   Package punkt is already up-to-date!\n"
     ]
    },
    {
     "data": {
      "text/plain": [
       "True"
      ]
     },
     "execution_count": 1,
     "metadata": {},
     "output_type": "execute_result"
    }
   ],
   "source": [
    "import numpy as np\n",
    "import pandas as pd\n",
    "import torch\n",
    "import torch.nn as nn\n",
    "import torch.optim as optim\n",
    "from torch.utils.data import Dataset, DataLoader\n",
    "import matplotlib.pyplot as plt\n",
    "import re\n",
    "import nltk\n",
    "from nltk.tokenize import word_tokenize\n",
    "from sklearn.model_selection import train_test_split\n",
    "\n",
    "# Download necessary NLTK data\n",
    "nltk.download('punkt')"
   ]
  },
  {
   "cell_type": "code",
   "execution_count": 2,
   "id": "4f1de019-59d6-4bbb-9b99-e5eabbd01fdf",
   "metadata": {},
   "outputs": [
    {
     "name": "stdout",
     "output_type": "stream",
     "text": [
      "   English          Hindi\n",
      "0    Help!          बचाओ!\n",
      "1    Jump.          उछलो.\n",
      "2    Jump.          कूदो.\n",
      "3    Jump.         छलांग.\n",
      "4   Hello!        नमस्ते।\n",
      "5   Hello!       नमस्कार।\n",
      "6  Cheers!       वाह-वाह!\n",
      "7  Cheers!        चियर्स!\n",
      "8  Got it?  समझे कि नहीं?\n",
      "9  I'm OK.   मैं ठीक हूँ।\n",
      "Index(['English', 'Hindi'], dtype='object')\n"
     ]
    }
   ],
   "source": [
    "filepath = r\"C:\\Users\\yashp\\English To Hindi Translation Using LSTM\\Dataset_English_Hindi.csv\"\n",
    "df = pd.read_csv(filepath)\n",
    "print(df.head(10))  # Check initial data\n",
    "print(df.columns)   # Verify column names\n"
   ]
  },
  {
   "cell_type": "code",
   "execution_count": 3,
   "id": "f10e1ea1-6b3a-4417-9d67-17c327442c4d",
   "metadata": {},
   "outputs": [
    {
     "data": {
      "text/plain": [
       "English      2\n",
       "Hindi      312\n",
       "dtype: int64"
      ]
     },
     "execution_count": 3,
     "metadata": {},
     "output_type": "execute_result"
    }
   ],
   "source": [
    "df.isnull().sum()"
   ]
  },
  {
   "cell_type": "code",
   "execution_count": 4,
   "id": "f05d214b-c7d9-41f6-94d9-adee847e23d7",
   "metadata": {},
   "outputs": [],
   "source": [
    "df.dropna(inplace=True)\n"
   ]
  },
  {
   "cell_type": "code",
   "execution_count": 5,
   "id": "3d45e24a-f77e-4e8f-9866-0b40e87a3ca6",
   "metadata": {},
   "outputs": [
    {
     "data": {
      "text/plain": [
       "English    0\n",
       "Hindi      0\n",
       "dtype: int64"
      ]
     },
     "execution_count": 5,
     "metadata": {},
     "output_type": "execute_result"
    }
   ],
   "source": [
    "df.isnull().sum()"
   ]
  },
  {
   "cell_type": "code",
   "execution_count": 6,
   "id": "eae0b788-999b-4fef-801a-bd57ec8e37bd",
   "metadata": {},
   "outputs": [
    {
     "data": {
      "text/html": [
       "<div>\n",
       "<style scoped>\n",
       "    .dataframe tbody tr th:only-of-type {\n",
       "        vertical-align: middle;\n",
       "    }\n",
       "\n",
       "    .dataframe tbody tr th {\n",
       "        vertical-align: top;\n",
       "    }\n",
       "\n",
       "    .dataframe thead th {\n",
       "        text-align: right;\n",
       "    }\n",
       "</style>\n",
       "<table border=\"1\" class=\"dataframe\">\n",
       "  <thead>\n",
       "    <tr style=\"text-align: right;\">\n",
       "      <th></th>\n",
       "      <th>English</th>\n",
       "      <th>Hindi</th>\n",
       "    </tr>\n",
       "  </thead>\n",
       "  <tbody>\n",
       "    <tr>\n",
       "      <th>0</th>\n",
       "      <td>Help!</td>\n",
       "      <td>बचाओ!</td>\n",
       "    </tr>\n",
       "    <tr>\n",
       "      <th>1</th>\n",
       "      <td>Jump.</td>\n",
       "      <td>उछलो.</td>\n",
       "    </tr>\n",
       "    <tr>\n",
       "      <th>2</th>\n",
       "      <td>Jump.</td>\n",
       "      <td>कूदो.</td>\n",
       "    </tr>\n",
       "    <tr>\n",
       "      <th>3</th>\n",
       "      <td>Jump.</td>\n",
       "      <td>छलांग.</td>\n",
       "    </tr>\n",
       "    <tr>\n",
       "      <th>4</th>\n",
       "      <td>Hello!</td>\n",
       "      <td>नमस्ते।</td>\n",
       "    </tr>\n",
       "  </tbody>\n",
       "</table>\n",
       "</div>"
      ],
      "text/plain": [
       "  English    Hindi\n",
       "0   Help!    बचाओ!\n",
       "1   Jump.    उछलो.\n",
       "2   Jump.    कूदो.\n",
       "3   Jump.   छलांग.\n",
       "4  Hello!  नमस्ते।"
      ]
     },
     "execution_count": 6,
     "metadata": {},
     "output_type": "execute_result"
    }
   ],
   "source": [
    "df.head()"
   ]
  },
  {
   "cell_type": "code",
   "execution_count": 7,
   "id": "793d3028-3fce-49f4-a141-94591abd6126",
   "metadata": {},
   "outputs": [],
   "source": [
    "# Load dataset\n",
    "'''def load_data(filepath):\n",
    "    df = pd.read_csv(filepath)\n",
    "    df.columns = [\"English\", \"Marathi\"]\n",
    "    df.dropna(inplace=True)\n",
    "    return df'''\n",
    "\n",
    "def load_data(filepath):\n",
    "    df = pd.read_csv(filepath)  # Load the CSV without renaming columns\n",
    "    df = df[['English', 'Hindi']]  # Keep only relevant columns\n",
    "    df.dropna(inplace=True)  # Remove any missing values\n",
    "    return df\n",
    "\n",
    "# Clean text\n",
    "def clean_text(text):\n",
    "    text = text.lower()\n",
    "    text = re.sub(r\"[^\\w\\s]\", \"\", text)\n",
    "    return text\n",
    "\n",
    "# Preprocess dataset\n",
    "def preprocess_data(df):\n",
    "    df[\"English\"] = df[\"English\"].apply(clean_text)\n",
    "    df[\"Hindi\"] = df[\"Hindi\"]\n",
    "    return df\n",
    "\n",
    "# Tokenization\n",
    "def tokenize_text(df):\n",
    "    engH_tokens = [word_tokenize(sent) for sent in df['English']]\n",
    "    hn_tokens = [word_tokenize(sent) for sent in df['Hindi']]\n",
    "    return engH_tokens, hn_tokens\n",
    "\n",
    "# Build vocabulary\n",
    "def build_vocab(tokenized_texts):\n",
    "    vocab = {word for sentence in tokenized_texts for word in sentence}\n",
    "    vocab = {word: idx + 1 for idx, word in enumerate(vocab)}\n",
    "    vocab['<PAD>'] = 0\n",
    "    return vocab\n",
    "\n",
    "# Encode sentences\n",
    "def encode_sentences(sentences, vocab, max_len):\n",
    "    encoded = [[vocab.get(word, 0) for word in sent] for sent in sentences]\n",
    "    padded = [sent + [0] * (max_len - len(sent)) if len(sent) < max_len else sent[:max_len] for sent in encoded]\n",
    "    return np.array(padded)\n",
    "\n",
    "# PyTorch Dataset Class\n",
    "class TranslationDataset(Dataset):\n",
    "    def __init__(self, X, y):\n",
    "        self.X = torch.tensor(X, dtype=torch.long)\n",
    "        self.y = torch.tensor(y, dtype=torch.long)\n",
    "    \n",
    "    def __len__(self):\n",
    "        return len(self.X)\n",
    "    \n",
    "    def __getitem__(self, idx):\n",
    "        return self.X[idx], self.y[idx]\n",
    "\n",
    "# LSTM Model Class\n",
    "class LSTMTranslator(nn.Module):\n",
    "    def __init__(self, vocab_size, embed_size, hidden_size, output_size):\n",
    "        super(LSTMTranslator, self).__init__()\n",
    "        self.embedding = nn.Embedding(vocab_size, embed_size)\n",
    "        self.lstm = nn.LSTM(embed_size, hidden_size, batch_first=True, dropout=0.6, bidirectional=True)\n",
    "        self.fc = nn.Linear(hidden_size * 2, output_size)\n",
    "        self.dropout = nn.Dropout(0.6)  # Higher dropout\n",
    "\n",
    "    def forward(self, x):\n",
    "        x = self.embedding(x)\n",
    "        x, _ = self.lstm(x)\n",
    "        x = self.dropout(x)  # Apply dropout before FC\n",
    "        x = self.fc(x)\n",
    "        return x\n",
    "\n",
    "\n",
    "\n",
    "# Load and process data\n",
    "filepath = r\"C:\\Users\\yashp\\English To Hindi Translation Using LSTM\\Dataset_English_Hindi.csv\"\n",
    "df = load_data(filepath)\n",
    "df = preprocess_data(df)\n",
    "engH_tokens, hn_tokens = tokenize_text(df)\n",
    "engH_vocab = build_vocab(engH_tokens)\n",
    "hn_vocab = build_vocab(hn_tokens)\n",
    "\n",
    "# Set max sequence length\n",
    "max_len = 10\n",
    "X = encode_sentences(engH_tokens, engH_vocab, max_len)\n",
    "y = encode_sentences(hn_tokens, hn_vocab, max_len)"
   ]
  },
  {
   "cell_type": "code",
   "execution_count": 8,
   "id": "2fa449f3-a781-4aff-8ba4-2db4249f7ac6",
   "metadata": {},
   "outputs": [
    {
     "data": {
      "text/html": [
       "<div>\n",
       "<style scoped>\n",
       "    .dataframe tbody tr th:only-of-type {\n",
       "        vertical-align: middle;\n",
       "    }\n",
       "\n",
       "    .dataframe tbody tr th {\n",
       "        vertical-align: top;\n",
       "    }\n",
       "\n",
       "    .dataframe thead th {\n",
       "        text-align: right;\n",
       "    }\n",
       "</style>\n",
       "<table border=\"1\" class=\"dataframe\">\n",
       "  <thead>\n",
       "    <tr style=\"text-align: right;\">\n",
       "      <th></th>\n",
       "      <th>English</th>\n",
       "      <th>Hindi</th>\n",
       "    </tr>\n",
       "  </thead>\n",
       "  <tbody>\n",
       "    <tr>\n",
       "      <th>0</th>\n",
       "      <td>help</td>\n",
       "      <td>बचाओ!</td>\n",
       "    </tr>\n",
       "    <tr>\n",
       "      <th>1</th>\n",
       "      <td>jump</td>\n",
       "      <td>उछलो.</td>\n",
       "    </tr>\n",
       "    <tr>\n",
       "      <th>2</th>\n",
       "      <td>jump</td>\n",
       "      <td>कूदो.</td>\n",
       "    </tr>\n",
       "    <tr>\n",
       "      <th>3</th>\n",
       "      <td>jump</td>\n",
       "      <td>छलांग.</td>\n",
       "    </tr>\n",
       "    <tr>\n",
       "      <th>4</th>\n",
       "      <td>hello</td>\n",
       "      <td>नमस्ते।</td>\n",
       "    </tr>\n",
       "  </tbody>\n",
       "</table>\n",
       "</div>"
      ],
      "text/plain": [
       "  English    Hindi\n",
       "0    help    बचाओ!\n",
       "1    jump    उछलो.\n",
       "2    jump    कूदो.\n",
       "3    jump   छलांग.\n",
       "4   hello  नमस्ते।"
      ]
     },
     "execution_count": 8,
     "metadata": {},
     "output_type": "execute_result"
    }
   ],
   "source": [
    "df.head()"
   ]
  },
  {
   "cell_type": "code",
   "execution_count": 9,
   "id": "98a6586c-7bc3-4732-b536-e0b4a58cd886",
   "metadata": {},
   "outputs": [
    {
     "data": {
      "text/html": [
       "<div>\n",
       "<style scoped>\n",
       "    .dataframe tbody tr th:only-of-type {\n",
       "        vertical-align: middle;\n",
       "    }\n",
       "\n",
       "    .dataframe tbody tr th {\n",
       "        vertical-align: top;\n",
       "    }\n",
       "\n",
       "    .dataframe thead th {\n",
       "        text-align: right;\n",
       "    }\n",
       "</style>\n",
       "<table border=\"1\" class=\"dataframe\">\n",
       "  <thead>\n",
       "    <tr style=\"text-align: right;\">\n",
       "      <th></th>\n",
       "      <th>English</th>\n",
       "      <th>Hindi</th>\n",
       "    </tr>\n",
       "  </thead>\n",
       "  <tbody>\n",
       "    <tr>\n",
       "      <th>130471</th>\n",
       "      <td>examples of art deco construction can be found...</td>\n",
       "      <td>आर्ट डेको शैली के निर्माण मैरीन ड्राइव और ओवल ...</td>\n",
       "    </tr>\n",
       "    <tr>\n",
       "      <th>130472</th>\n",
       "      <td>and put it in our cheeks</td>\n",
       "      <td>और अपने गालों में डाल लेते हैं।</td>\n",
       "    </tr>\n",
       "    <tr>\n",
       "      <th>130473</th>\n",
       "      <td>as for the other derivatives of sulphur  the c...</td>\n",
       "      <td>जहां तक गंधक के अन्य उत्पादों का प्रश्न है , द...</td>\n",
       "    </tr>\n",
       "    <tr>\n",
       "      <th>130474</th>\n",
       "      <td>its complicated functioning is defined thus in...</td>\n",
       "      <td>Zरचना-प्रकिया को उसने एक पहेली में यों बांधा है .</td>\n",
       "    </tr>\n",
       "    <tr>\n",
       "      <th>130475</th>\n",
       "      <td>theyve just won four government contracts to b...</td>\n",
       "      <td>हाल ही में उन्हें सरकारी ठेका मिला है करीब सौ ...</td>\n",
       "    </tr>\n",
       "  </tbody>\n",
       "</table>\n",
       "</div>"
      ],
      "text/plain": [
       "                                                  English  \\\n",
       "130471  examples of art deco construction can be found...   \n",
       "130472                           and put it in our cheeks   \n",
       "130473  as for the other derivatives of sulphur  the c...   \n",
       "130474  its complicated functioning is defined thus in...   \n",
       "130475  theyve just won four government contracts to b...   \n",
       "\n",
       "                                                    Hindi  \n",
       "130471  आर्ट डेको शैली के निर्माण मैरीन ड्राइव और ओवल ...  \n",
       "130472                    और अपने गालों में डाल लेते हैं।  \n",
       "130473  जहां तक गंधक के अन्य उत्पादों का प्रश्न है , द...  \n",
       "130474  Zरचना-प्रकिया को उसने एक पहेली में यों बांधा है .  \n",
       "130475  हाल ही में उन्हें सरकारी ठेका मिला है करीब सौ ...  "
      ]
     },
     "execution_count": 9,
     "metadata": {},
     "output_type": "execute_result"
    }
   ],
   "source": [
    "df.tail()"
   ]
  },
  {
   "cell_type": "code",
   "execution_count": 10,
   "id": "36026cfc-f1de-46d2-a64f-bcb6ffb00723",
   "metadata": {},
   "outputs": [],
   "source": [
    "# Train-test split\n",
    "X_train, X_val, y_train, y_val = train_test_split(X, y, test_size=0.2)"
   ]
  },
  {
   "cell_type": "code",
   "execution_count": 11,
   "id": "e483479f-f169-44b4-84de-8eb735ed64b9",
   "metadata": {},
   "outputs": [],
   "source": [
    "# Prepare DataLoader\n",
    "train_dataset = TranslationDataset(X_train, y_train)\n",
    "val_dataset = TranslationDataset(X_val, y_val)\n",
    "train_loader = DataLoader(train_dataset, batch_size=32, shuffle=True)\n",
    "val_loader = DataLoader(val_dataset, batch_size=32, shuffle=False)"
   ]
  },
  {
   "cell_type": "code",
   "execution_count": 12,
   "id": "360674e3-3694-4913-a58a-bb4bb038a589",
   "metadata": {},
   "outputs": [
    {
     "name": "stderr",
     "output_type": "stream",
     "text": [
      "C:\\Users\\yashp\\anaconda3\\envs\\FER_TL\\Lib\\site-packages\\torch\\nn\\modules\\rnn.py:123: UserWarning: dropout option adds dropout after all but last recurrent layer, so non-zero dropout expects num_layers greater than 1, but got dropout=0.6 and num_layers=1\n",
      "  warnings.warn(\n"
     ]
    }
   ],
   "source": [
    "# Define Model\n",
    "device = torch.device(\"cuda\" if torch.cuda.is_available() else \"cpu\")\n",
    "model = LSTMTranslator(len(engH_vocab), 128, 512, len(hn_vocab)).to(device)\n",
    "criterion = nn.CrossEntropyLoss()\n",
    "optimizer = optim.Adam(model.parameters(), lr=0.001)"
   ]
  },
  {
   "cell_type": "code",
   "execution_count": 13,
   "id": "639b471a-9a7c-49ba-b812-1dd3f2aaf61f",
   "metadata": {},
   "outputs": [
    {
     "name": "stdout",
     "output_type": "stream",
     "text": [
      "Using CUDA device: NVIDIA GeForce RTX 4060 Laptop GPU\n",
      "Device type: cuda\n"
     ]
    }
   ],
   "source": [
    "import torch\n",
    "\n",
    "device = torch.device(\"cuda\" if torch.cuda.is_available() else \"cpu\")\n",
    "\n",
    "if device.type == 'cuda':\n",
    "    print(f\"Using CUDA device: {torch.cuda.get_device_name(0)}\") # Get the name of the CUDA device\n",
    "else:\n",
    "    print(\"Using CPU\")\n",
    "\n",
    "print(f\"Device type: {device.type}\") # Print the type of device"
   ]
  },
  {
   "cell_type": "code",
   "execution_count": 14,
   "id": "3d60fefa-d341-44d1-93d6-e7f92f8c1f40",
   "metadata": {
    "scrolled": true
   },
   "outputs": [
    {
     "name": "stderr",
     "output_type": "stream",
     "text": [
      "C:\\Users\\yashp\\anaconda3\\envs\\FER_TL\\Lib\\site-packages\\torch\\optim\\lr_scheduler.py:62: UserWarning: The verbose parameter is deprecated. Please use get_last_lr() to access the learning rate.\n",
      "  warnings.warn(\n"
     ]
    },
    {
     "name": "stdout",
     "output_type": "stream",
     "text": [
      "Epoch 1, Train Loss: 6.4569, Val Loss: 5.9633\n",
      "Epoch 2, Train Loss: 5.8473, Val Loss: 5.6059\n",
      "Epoch 3, Train Loss: 5.4635, Val Loss: 5.3948\n",
      "Epoch 4, Train Loss: 5.1842, Val Loss: 5.2650\n",
      "Epoch 5, Train Loss: 4.9670, Val Loss: 5.1896\n",
      "Epoch 6, Train Loss: 4.7926, Val Loss: 5.1465\n",
      "Epoch 7, Train Loss: 4.6551, Val Loss: 5.1157\n",
      "Epoch 8, Train Loss: 4.5350, Val Loss: 5.1034\n",
      "Epoch 9, Train Loss: 4.4303, Val Loss: 5.0952\n",
      "Epoch 10, Train Loss: 4.3413, Val Loss: 5.0978\n",
      "Epoch 11, Train Loss: 4.2601, Val Loss: 5.1115\n",
      "Epoch 12, Train Loss: 4.1904, Val Loss: 5.1224\n",
      "Epoch 13, Train Loss: 3.8382, Val Loss: 5.1050\n",
      "Epoch 14, Train Loss: 3.7229, Val Loss: 5.1348\n",
      "Early stopping triggered.\n"
     ]
    }
   ],
   "source": [
    "from tqdm import tqdm\n",
    "from tqdm import tqdm\n",
    "from torch.optim.lr_scheduler import ReduceLROnPlateau\n",
    "\n",
    "epochs = 30\n",
    "train_losses, val_losses = [], []\n",
    "best_val_loss = float(\"inf\")\n",
    "patience, patience_counter = 5, 0\n",
    "optimizer = torch.optim.Adam(model.parameters(), lr=0.001, weight_decay=1e-5)\n",
    "\n",
    "scheduler = ReduceLROnPlateau(optimizer, mode=\"min\", patience=2, factor=0.5, verbose=True)\n",
    "\n",
    "for epoch in range(epochs):\n",
    "    model.train()\n",
    "    total_loss = 0\n",
    "    for X_batch, y_batch in train_loader:\n",
    "        X_batch, y_batch = X_batch.to(device), y_batch.to(device)\n",
    "        optimizer.zero_grad()\n",
    "        output = model(X_batch)\n",
    "        loss = criterion(output.view(-1, output.shape[-1]), y_batch.view(-1))\n",
    "        loss.backward()\n",
    "        optimizer.step()\n",
    "        total_loss += loss.item()\n",
    "    \n",
    "    train_losses.append(total_loss / len(train_loader))\n",
    "    \n",
    "    # Validation\n",
    "    model.eval()\n",
    "    val_loss = 0\n",
    "    with torch.no_grad():\n",
    "        for X_batch, y_batch in val_loader:\n",
    "            X_batch, y_batch = X_batch.to(device), y_batch.to(device)\n",
    "            output = model(X_batch)\n",
    "            loss = criterion(output.view(-1, output.shape[-1]), y_batch.view(-1))\n",
    "            val_loss += loss.item()\n",
    "    \n",
    "    val_losses.append(val_loss / len(val_loader))\n",
    "    scheduler.step(val_losses[-1])  # Adjust learning rate\n",
    "    \n",
    "    print(f\"Epoch {epoch+1}, Train Loss: {train_losses[-1]:.4f}, Val Loss: {val_losses[-1]:.4f}\")\n",
    "    \n",
    "    # Early Stopping\n",
    "    if val_losses[-1] < best_val_loss:\n",
    "        best_val_loss = val_losses[-1]\n",
    "        torch.save(model.state_dict(), \"best_translator_model.pth\")\n",
    "        patience_counter = 0\n",
    "    else:\n",
    "        patience_counter += 1\n",
    "        if patience_counter >= patience:\n",
    "            print(\"Early stopping triggered.\")\n",
    "            break"
   ]
  },
  {
   "cell_type": "code",
   "execution_count": 15,
   "id": "7af7c7d5-1a00-44b9-b83b-136f5ac117bd",
   "metadata": {},
   "outputs": [
    {
     "data": {
      "image/png": "[encoded data removed]",
      "text/plain": [
       "<Figure size 640x480 with 1 Axes>"
      ]
     },
     "metadata": {},
     "output_type": "display_data"
    }
   ],
   "source": [
    "plt.plot(train_losses, label='Train Loss')\n",
    "plt.plot(val_losses, label='Val Loss')\n",
    "plt.xlabel('Epochs')\n",
    "plt.ylabel('Loss')\n",
    "plt.legend()\n",
    "plt.show()"
   ]
  },
  {
   "cell_type": "code",
   "execution_count": 16,
   "id": "1babf215-4373-4e83-8225-2348f8fccb2d",
   "metadata": {},
   "outputs": [],
   "source": [
    "import pickle\n",
    "torch.save(model.state_dict(), \"translator_model_English_to_Hindi.pth\")\n",
    "pickle.dump(engH_vocab, open(\"engH_vocab.pkl\", \"wb\"))\n",
    "pickle.dump(hn_vocab, open(\"hn_vocab.pkl\", \"wb\"))"
   ]
  },
  {
   "cell_type": "code",
   "execution_count": 17,
   "id": "bbcc7834-3c8f-45da-ac6d-341e9e4e605f",
   "metadata": {},
   "outputs": [],
   "source": [
    "def translate_sentence(model, sentence, engH_vocab, hn_vocab, max_len=10, device=\"cuda\"):\n",
    "    model.eval()\n",
    "    tokens = word_tokenize(sentence.lower())\n",
    "    encoded = [engH_vocab.get(word, 0) for word in tokens]\n",
    "    padded = encoded + [0] * (max_len - len(encoded)) if len(encoded) < max_len else encoded[:max_len]\n",
    "    input_tensor = torch.tensor([padded], dtype=torch.long).to(device)\n",
    "\n",
    "    with torch.no_grad():\n",
    "        output = model(input_tensor)\n",
    "    \n",
    "    predicted_tokens = output.argmax(2).squeeze().tolist()\n",
    "    rev_hn_vocab = {idx: word for word, idx in hn_vocab.items()}\n",
    "    translated_sentence = \" \".join([rev_hn_vocab.get(idx, \"\") for idx in predicted_tokens])\n",
    "\n",
    "    return translated_sentence"
   ]
  },
  {
   "cell_type": "code",
   "execution_count": null,
   "id": "0d5171b0-77fc-4bf3-8948-515b2a45321c",
   "metadata": {},
   "outputs": [
    {
     "name": "stdout",
     "output_type": "stream",
     "text": [
      "Translation: आप कैसे हो ? <PAD> <PAD> <PAD> <PAD> <PAD> <PAD>\n"
     ]
    }
   ],
   "source": [
    "# Example usage\n",
    "loaded_model = LSTMTranslator(len(engH_vocab), 128, 512, len(hn_vocab)).to(device)\n",
    "loaded_model.load_state_dict(torch.load(\"translator_model_English_to_Hindi.pth\"))\n",
    "loaded_model.eval()\n",
    "\n",
    "example_sentence = \"how are you\"\n",
    "predicted_translation = translate_sentence(loaded_model, \n",
    "                    example_sentence, engH_vocab, \n",
    "                    hn_vocab, device=device)\n",
    "print(f\"Translation: {predicted_translation}\")"
   ]
  },
  {
   "cell_type": "code",
   "execution_count": null,
   "id": "177b4b85-42b1-4cf8-87bb-b3a8c521d05b",
   "metadata": {},
   "outputs": [],
   "source": []
  }
 ],
 "metadata": {
  "kernelspec": {
   "display_name": "Python 3 (ipykernel)",
   "language": "python",
   "name": "python3"
  },
  "language_info": {
   "codemirror_mode": {
    "name": "ipython",
    "version": 3
   },
   "file_extension": ".py",
   "mimetype": "text/x-python",
   "name": "python",
   "nbconvert_exporter": "python",
   "pygments_lexer": "ipython3",
   "version": "3.12.9"
  }
 },
 "nbformat": 4,
 "nbformat_minor": 5
}
