{
 "cells": [
  {
   "cell_type": "code",
   "execution_count": 11,
   "id": "5bfc89e7-42bd-4cc7-a7ce-fd5fae3abf9e",
   "metadata": {},
   "outputs": [
    {
     "name": "stderr",
     "output_type": "stream",
     "text": [
      "[nltk_data] Downloading package punkt to\n",
      "[nltk_data]     C:\\Users\\yashp\\AppData\\Roaming\\nltk_data...\n",
      "[nltk_data]   Package punkt is already up-to-date!\n"
     ]
    },
    {
     "data": {
      "text/plain": [
       "True"
      ]
     },
     "execution_count": 11,
     "metadata": {},
     "output_type": "execute_result"
    }
   ],
   "source": [
    "import numpy as np\n",
    "import pandas as pd\n",
    "import torch\n",
    "import torch.nn as nn\n",
    "import torch.optim as optim\n",
    "from torch.utils.data import Dataset, DataLoader\n",
    "import matplotlib.pyplot as plt\n",
    "import re\n",
    "import nltk\n",
    "from nltk.tokenize import word_tokenize\n",
    "from sklearn.model_selection import train_test_split\n",
    "import pickle\n",
    "\n",
    "nltk.download('punkt')"
   ]
  },
  {
   "cell_type": "code",
   "execution_count": 12,
   "id": "4f1de019-59d6-4bbb-9b99-e5eabbd01fdf",
   "metadata": {},
   "outputs": [
    {
     "name": "stdout",
     "output_type": "stream",
     "text": [
      "   Unnamed: 0 English Marathi\n",
      "0           0     Go.     जा.\n",
      "1           1     Go.     जा.\n",
      "2           2     Go.     जा.\n",
      "3           3     Go.     जा.\n",
      "4           4     Hi.    हाय.\n",
      "5           5    Run!   धावा!\n",
      "6           6    Run.   धावा.\n",
      "7           7    Who?    WHO?\n",
      "8           8   Fire!     आग!\n",
      "9           9   Fire!     आग!\n",
      "Index(['Unnamed: 0', 'English', 'Marathi'], dtype='object')\n"
     ]
    }
   ],
   "source": [
    "filepath = r\"C:\\Users\\yashp\\English to Marathi Translation Using LSTM\\eng_mar.csv\"\n",
    "df = pd.read_csv(filepath)\n",
    "print(df.head(10))  # Check initial data\n",
    "print(df.columns)   # Verify column names\n"
   ]
  },
  {
   "cell_type": "code",
   "execution_count": 13,
   "id": "793d3028-3fce-49f4-a141-94591abd6126",
   "metadata": {},
   "outputs": [],
   "source": [
    "# Load dataset\n",
    "'''def load_data(filepath):\n",
    "    df = pd.read_csv(filepath)\n",
    "    df.columns = [\"English\", \"Marathi\"]\n",
    "    df.dropna(inplace=True)\n",
    "    return df'''\n",
    "\n",
    "def load_data(filepath):\n",
    "    df = pd.read_csv(filepath)\n",
    "    df = df[['English', 'Marathi']]\n",
    "    df.dropna(inplace=True)\n",
    "    return df\n",
    "\n",
    "def clean_text(text):\n",
    "    text = text.lower()\n",
    "    text = re.sub(r\"[^\\w\\s]\", \"\", text)\n",
    "    return text\n",
    "\n",
    "def preprocess_data(df):\n",
    "    df['English'] = df['English'].apply(clean_text)\n",
    "    df['Marathi'] = df['Marathi'].apply(clean_text)\n",
    "    return df\n",
    "\n",
    "def tokenize_text(df):\n",
    "    eng_tokens = [word_tokenize(sent) for sent in df['English']]\n",
    "    mr_tokens = [word_tokenize(sent) for sent in df['Marathi']]\n",
    "    return eng_tokens, mr_tokens\n",
    "\n",
    "def build_vocab(tokenized_texts):\n",
    "    vocab = {word for sentence in tokenized_texts for word in sentence}\n",
    "    vocab = {word: idx + 1 for idx, word in enumerate(vocab)}\n",
    "    vocab['<PAD>'] = 0\n",
    "    return vocab\n",
    "\n",
    "def encode_sentences(sentences, vocab, max_len):\n",
    "    encoded = [[vocab.get(word, 0) for word in sent] for sent in sentences]\n",
    "    padded = [sent + [0] * (max_len - len(sent)) if len(sent) < max_len else sent[:max_len] for sent in encoded]\n",
    "    return np.array(padded)\n",
    "\n",
    "class TranslationDataset(Dataset):\n",
    "    def __init__(self, X, y):\n",
    "        self.X = torch.tensor(X, dtype=torch.long)\n",
    "        self.y = torch.tensor(y, dtype=torch.long)\n",
    "    \n",
    "    def __len__(self):\n",
    "        return len(self.X)\n",
    "    \n",
    "    def __getitem__(self, idx):\n",
    "        return self.X[idx], self.y[idx]\n",
    "\n",
    "class LSTMTranslator(nn.Module):\n",
    "    def __init__(self, vocab_size, embed_size, hidden_size, output_size):\n",
    "        super(LSTMTranslator, self).__init__()\n",
    "        self.embedding = nn.Embedding(vocab_size, embed_size)\n",
    "        self.lstm = nn.LSTM(embed_size, hidden_size, batch_first=True, dropout=0.3, bidirectional=True)\n",
    "        self.fc = nn.Linear(hidden_size * 2, output_size)  # Multiply by 2 due to bidirectionality\n",
    "    \n",
    "    def forward(self, x):\n",
    "        x = self.embedding(x)\n",
    "        x, _ = self.lstm(x)\n",
    "        x = self.fc(x)\n",
    "        return x\n",
    "\n",
    "\n",
    "# Load and process data\n",
    "filepath = r\"C:\\Users\\yashp\\English to Marathi Translation Using LSTM\\eng_mar.csv\"\n",
    "df = load_data(filepath)\n",
    "df = preprocess_data(df)\n",
    "eng_tokens, mr_tokens = tokenize_text(df)\n",
    "eng_vocab = build_vocab(eng_tokens)\n",
    "mr_vocab = build_vocab(mr_tokens)\n",
    "\n",
    "# Set max sequence length\n",
    "max_len = 10\n",
    "X = encode_sentences(eng_tokens, eng_vocab, max_len)\n",
    "y = encode_sentences(mr_tokens, mr_vocab, max_len)"
   ]
  },
  {
   "cell_type": "code",
   "execution_count": 14,
   "id": "2fa449f3-a781-4aff-8ba4-2db4249f7ac6",
   "metadata": {},
   "outputs": [
    {
     "data": {
      "text/html": [
       "<div>\n",
       "<style scoped>\n",
       "    .dataframe tbody tr th:only-of-type {\n",
       "        vertical-align: middle;\n",
       "    }\n",
       "\n",
       "    .dataframe tbody tr th {\n",
       "        vertical-align: top;\n",
       "    }\n",
       "\n",
       "    .dataframe thead th {\n",
       "        text-align: right;\n",
       "    }\n",
       "</style>\n",
       "<table border=\"1\" class=\"dataframe\">\n",
       "  <thead>\n",
       "    <tr style=\"text-align: right;\">\n",
       "      <th></th>\n",
       "      <th>English</th>\n",
       "      <th>Marathi</th>\n",
       "    </tr>\n",
       "  </thead>\n",
       "  <tbody>\n",
       "    <tr>\n",
       "      <th>0</th>\n",
       "      <td>go</td>\n",
       "      <td>ज</td>\n",
       "    </tr>\n",
       "    <tr>\n",
       "      <th>1</th>\n",
       "      <td>go</td>\n",
       "      <td>ज</td>\n",
       "    </tr>\n",
       "    <tr>\n",
       "      <th>2</th>\n",
       "      <td>go</td>\n",
       "      <td>ज</td>\n",
       "    </tr>\n",
       "    <tr>\n",
       "      <th>3</th>\n",
       "      <td>go</td>\n",
       "      <td>ज</td>\n",
       "    </tr>\n",
       "    <tr>\n",
       "      <th>4</th>\n",
       "      <td>hi</td>\n",
       "      <td>हय</td>\n",
       "    </tr>\n",
       "  </tbody>\n",
       "</table>\n",
       "</div>"
      ],
      "text/plain": [
       "  English Marathi\n",
       "0      go       ज\n",
       "1      go       ज\n",
       "2      go       ज\n",
       "3      go       ज\n",
       "4      hi      हय"
      ]
     },
     "execution_count": 14,
     "metadata": {},
     "output_type": "execute_result"
    }
   ],
   "source": [
    "df.head()"
   ]
  },
  {
   "cell_type": "code",
   "execution_count": 15,
   "id": "98a6586c-7bc3-4732-b536-e0b4a58cd886",
   "metadata": {},
   "outputs": [
    {
     "data": {
      "text/html": [
       "<div>\n",
       "<style scoped>\n",
       "    .dataframe tbody tr th:only-of-type {\n",
       "        vertical-align: middle;\n",
       "    }\n",
       "\n",
       "    .dataframe tbody tr th {\n",
       "        vertical-align: top;\n",
       "    }\n",
       "\n",
       "    .dataframe thead th {\n",
       "        text-align: right;\n",
       "    }\n",
       "</style>\n",
       "<table border=\"1\" class=\"dataframe\">\n",
       "  <thead>\n",
       "    <tr style=\"text-align: right;\">\n",
       "      <th></th>\n",
       "      <th>English</th>\n",
       "      <th>Marathi</th>\n",
       "    </tr>\n",
       "  </thead>\n",
       "  <tbody>\n",
       "    <tr>\n",
       "      <th>118959</th>\n",
       "      <td>there are four main causes of alcoholrelated d...</td>\n",
       "      <td>अलकहलसबधत मतयच चर मखय करण आहत कर अपघत कव हसचरम...</td>\n",
       "    </tr>\n",
       "    <tr>\n",
       "      <th>118960</th>\n",
       "      <td>there are mothers and fathers who will lie awa...</td>\n",
       "      <td>अस आई आण वडल आहत ज मल झप गलयनतर जग हतल आण त गह...</td>\n",
       "    </tr>\n",
       "    <tr>\n",
       "      <th>118961</th>\n",
       "      <td>a carbon footprint is the amount of carbon dio...</td>\n",
       "      <td>करबन फटपरट महणज करबन डयऑकसइड परदषणच परमण ज आपण...</td>\n",
       "    </tr>\n",
       "    <tr>\n",
       "      <th>118962</th>\n",
       "      <td>since there are usually multiple websites on a...</td>\n",
       "      <td>कणतयह दललय वषयवर सहस अनक वबसइटस असलयन पपअप जहर...</td>\n",
       "    </tr>\n",
       "    <tr>\n",
       "      <th>118963</th>\n",
       "      <td>if you want to sound like a native speaker you...</td>\n",
       "      <td>जर तमहल मळ सपकरसरख आवज दययच असल तर तमह तच वकय ...</td>\n",
       "    </tr>\n",
       "  </tbody>\n",
       "</table>\n",
       "</div>"
      ],
      "text/plain": [
       "                                                  English  \\\n",
       "118959  there are four main causes of alcoholrelated d...   \n",
       "118960  there are mothers and fathers who will lie awa...   \n",
       "118961  a carbon footprint is the amount of carbon dio...   \n",
       "118962  since there are usually multiple websites on a...   \n",
       "118963  if you want to sound like a native speaker you...   \n",
       "\n",
       "                                                  Marathi  \n",
       "118959  अलकहलसबधत मतयच चर मखय करण आहत कर अपघत कव हसचरम...  \n",
       "118960  अस आई आण वडल आहत ज मल झप गलयनतर जग हतल आण त गह...  \n",
       "118961  करबन फटपरट महणज करबन डयऑकसइड परदषणच परमण ज आपण...  \n",
       "118962  कणतयह दललय वषयवर सहस अनक वबसइटस असलयन पपअप जहर...  \n",
       "118963  जर तमहल मळ सपकरसरख आवज दययच असल तर तमह तच वकय ...  "
      ]
     },
     "execution_count": 15,
     "metadata": {},
     "output_type": "execute_result"
    }
   ],
   "source": [
    "df.tail()"
   ]
  },
  {
   "cell_type": "code",
   "execution_count": 16,
   "id": "36026cfc-f1de-46d2-a64f-bcb6ffb00723",
   "metadata": {},
   "outputs": [],
   "source": [
    "# Train-test split\n",
    "X_train, X_val, y_train, y_val = train_test_split(X, y, test_size=0.2)"
   ]
  },
  {
   "cell_type": "code",
   "execution_count": 17,
   "id": "e483479f-f169-44b4-84de-8eb735ed64b9",
   "metadata": {},
   "outputs": [],
   "source": [
    "# Prepare DataLoader\n",
    "train_dataset = TranslationDataset(X_train, y_train)\n",
    "val_dataset = TranslationDataset(X_val, y_val)\n",
    "train_loader = DataLoader(train_dataset, batch_size=32, shuffle=True)\n",
    "val_loader = DataLoader(val_dataset, batch_size=32, shuffle=False)"
   ]
  },
  {
   "cell_type": "code",
   "execution_count": 18,
   "id": "360674e3-3694-4913-a58a-bb4bb038a589",
   "metadata": {},
   "outputs": [
    {
     "name": "stderr",
     "output_type": "stream",
     "text": [
      "C:\\Users\\yashp\\anaconda3\\envs\\FER_TL\\Lib\\site-packages\\torch\\nn\\modules\\rnn.py:123: UserWarning: dropout option adds dropout after all but last recurrent layer, so non-zero dropout expects num_layers greater than 1, but got dropout=0.3 and num_layers=1\n",
      "  warnings.warn(\n"
     ]
    }
   ],
   "source": [
    "# Define Model\n",
    "device = torch.device(\"cuda\" if torch.cuda.is_available() else \"cpu\")\n",
    "model = LSTMTranslator(len(eng_vocab), 128, 512, len(mr_vocab)).to(device)\n",
    "criterion = nn.CrossEntropyLoss()\n",
    "optimizer = optim.Adam(model.parameters(), lr=0.001)"
   ]
  },
  {
   "cell_type": "code",
   "execution_count": 19,
   "id": "639b471a-9a7c-49ba-b812-1dd3f2aaf61f",
   "metadata": {},
   "outputs": [
    {
     "name": "stdout",
     "output_type": "stream",
     "text": [
      "Using CUDA device: NVIDIA GeForce RTX 4060 Laptop GPU\n",
      "Device type: cuda\n"
     ]
    }
   ],
   "source": [
    "import torch\n",
    "\n",
    "device = torch.device(\"cuda\" if torch.cuda.is_available() else \"cpu\")\n",
    "\n",
    "if device.type == 'cuda':\n",
    "    print(f\"Using CUDA device: {torch.cuda.get_device_name(0)}\") # Get the name of the CUDA device\n",
    "else:\n",
    "    print(\"Using CPU\")\n",
    "\n",
    "print(f\"Device type: {device.type}\") # Print the type of device"
   ]
  },
  {
   "cell_type": "code",
   "execution_count": 27,
   "id": "47aa0036-062d-49ee-bbfa-8d71196feab9",
   "metadata": {},
   "outputs": [
    {
     "data": {
      "text/plain": [
       "'# Training Loop\\nepochs = 40\\ntrain_losses, val_losses = [], []\\nfor epoch in range(epochs):\\n    model.train()\\n    total_loss = 0\\n    for X_batch, y_batch in train_loader:\\n        X_batch, y_batch = X_batch.to(device), y_batch.to(device)\\n        optimizer.zero_grad()\\n        output = model(X_batch)\\n        loss = criterion(output.view(-1, output.shape[-1]), y_batch.view(-1))\\n        loss.backward()\\n        optimizer.step()\\n        total_loss += loss.item()\\n    train_losses.append(total_loss / len(train_loader))\\n    \\n    model.eval()\\n    val_loss = 0\\n    with torch.no_grad():\\n        for X_batch, y_batch in val_loader:\\n            X_batch, y_batch = X_batch.to(device), y_batch.to(device)\\n            output = model(X_batch)\\n            loss = criterion(output.view(-1, output.shape[-1]), y_batch.view(-1))\\n            val_loss += loss.item()\\n    val_losses.append(val_loss / len(val_loader))\\n    \\n    print(f\"Epoch {epoch+1}, Train Loss: {train_losses[-1]:.4f}, Val Loss: {val_losses[-1]:.4f}\")'"
      ]
     },
     "execution_count": 27,
     "metadata": {},
     "output_type": "execute_result"
    }
   ],
   "source": [
    "'''# Training Loop\n",
    "epochs = 40\n",
    "train_losses, val_losses = [], []\n",
    "for epoch in range(epochs):\n",
    "    model.train()\n",
    "    total_loss = 0\n",
    "    for X_batch, y_batch in train_loader:\n",
    "        X_batch, y_batch = X_batch.to(device), y_batch.to(device)\n",
    "        optimizer.zero_grad()\n",
    "        output = model(X_batch)\n",
    "        loss = criterion(output.view(-1, output.shape[-1]), y_batch.view(-1))\n",
    "        loss.backward()\n",
    "        optimizer.step()\n",
    "        total_loss += loss.item()\n",
    "    train_losses.append(total_loss / len(train_loader))\n",
    "    \n",
    "    model.eval()\n",
    "    val_loss = 0\n",
    "    with torch.no_grad():\n",
    "        for X_batch, y_batch in val_loader:\n",
    "            X_batch, y_batch = X_batch.to(device), y_batch.to(device)\n",
    "            output = model(X_batch)\n",
    "            loss = criterion(output.view(-1, output.shape[-1]), y_batch.view(-1))\n",
    "            val_loss += loss.item()\n",
    "    val_losses.append(val_loss / len(val_loader))\n",
    "    \n",
    "    print(f\"Epoch {epoch+1}, Train Loss: {train_losses[-1]:.4f}, Val Loss: {val_losses[-1]:.4f}\")'''"
   ]
  },
  {
   "cell_type": "code",
   "execution_count": 20,
   "id": "3d60fefa-d341-44d1-93d6-e7f92f8c1f40",
   "metadata": {
    "scrolled": true
   },
   "outputs": [
    {
     "name": "stderr",
     "output_type": "stream",
     "text": [
      "C:\\Users\\yashp\\anaconda3\\envs\\FER_TL\\Lib\\site-packages\\torch\\optim\\lr_scheduler.py:62: UserWarning: The verbose parameter is deprecated. Please use get_last_lr() to access the learning rate.\n",
      "  warnings.warn(\n"
     ]
    },
    {
     "name": "stdout",
     "output_type": "stream",
     "text": [
      "Epoch 1, Train Loss: 2.6083, Val Loss: 2.0231\n",
      "Epoch 2, Train Loss: 1.4758, Val Loss: 1.7934\n",
      "Epoch 3, Train Loss: 0.9589, Val Loss: 1.7852\n",
      "Epoch 4, Train Loss: 0.6941, Val Loss: 1.8282\n",
      "Epoch 5, Train Loss: 0.5115, Val Loss: 1.8882\n",
      "Epoch 6, Train Loss: 0.3747, Val Loss: 1.9699\n",
      "Epoch 7, Train Loss: 0.2036, Val Loss: 1.9831\n",
      "Epoch 8, Train Loss: 0.1079, Val Loss: 2.0704\n",
      "Early stopping triggered.\n"
     ]
    }
   ],
   "source": [
    "from tqdm import tqdm\n",
    "from torch.optim.lr_scheduler import ReduceLROnPlateau\n",
    "\n",
    "epochs = 30\n",
    "train_losses, val_losses = [], []\n",
    "best_val_loss = float(\"inf\")\n",
    "patience, patience_counter = 5, 0\n",
    "scheduler = ReduceLROnPlateau(optimizer, mode=\"min\", patience=2, factor=0.5, verbose=True)\n",
    "\n",
    "for epoch in range(epochs):\n",
    "    model.train()\n",
    "    total_loss = 0\n",
    "    for X_batch, y_batch in train_loader:\n",
    "        X_batch, y_batch = X_batch.to(device), y_batch.to(device)\n",
    "        optimizer.zero_grad()\n",
    "        output = model(X_batch)\n",
    "        loss = criterion(output.view(-1, output.shape[-1]), y_batch.view(-1))\n",
    "        loss.backward()\n",
    "        optimizer.step()\n",
    "        total_loss += loss.item()\n",
    "    \n",
    "    train_losses.append(total_loss / len(train_loader))\n",
    "    \n",
    "    # Validation\n",
    "    model.eval()\n",
    "    val_loss = 0\n",
    "    with torch.no_grad():\n",
    "        for X_batch, y_batch in val_loader:\n",
    "            X_batch, y_batch = X_batch.to(device), y_batch.to(device)\n",
    "            output = model(X_batch)\n",
    "            loss = criterion(output.view(-1, output.shape[-1]), y_batch.view(-1))\n",
    "            val_loss += loss.item()\n",
    "    \n",
    "    val_losses.append(val_loss / len(val_loader))\n",
    "    scheduler.step(val_losses[-1])  # Adjust learning rate\n",
    "    \n",
    "    print(f\"Epoch {epoch+1}, Train Loss: {train_losses[-1]:.4f}, Val Loss: {val_losses[-1]:.4f}\")\n",
    "    \n",
    "    # Early Stopping\n",
    "    if val_losses[-1] < best_val_loss:\n",
    "        best_val_loss = val_losses[-1]\n",
    "        torch.save(model.state_dict(), \"best_translator_model.pth\")\n",
    "        patience_counter = 0\n",
    "    else:\n",
    "        patience_counter += 1\n",
    "        if patience_counter >= patience:\n",
    "            print(\"Early stopping triggered.\")\n",
    "            break\n"
   ]
  },
  {
   "cell_type": "code",
   "execution_count": 21,
   "id": "7af7c7d5-1a00-44b9-b83b-136f5ac117bd",
   "metadata": {},
   "outputs": [
    {
     "data": {
      "image/png": "[encoded data removed]",
      "text/plain": [
       "<Figure size 640x480 with 1 Axes>"
      ]
     },
     "metadata": {},
     "output_type": "display_data"
    }
   ],
   "source": [
    "plt.plot(train_losses, label='Train Loss')\n",
    "plt.plot(val_losses, label='Val Loss')\n",
    "plt.xlabel('Epochs')\n",
    "plt.ylabel('Loss')\n",
    "plt.legend()\n",
    "plt.show()"
   ]
  },
  {
   "cell_type": "code",
   "execution_count": null,
   "id": "1babf215-4373-4e83-8225-2348f8fccb2d",
   "metadata": {},
   "outputs": [],
   "source": [
    "# Save Model and Files\n",
    "torch.save(model.state_dict(), \"translator_model_English_to_Marathi.pth\")\n",
    "pd.to_pickle(engM_vocab, \"engM_vocab.pkl\")\n",
    "pd.to_pickle(mr_vocab, \"mr_vocab.pkl\")\n"
   ]
  },
  {
   "cell_type": "code",
   "execution_count": 26,
   "id": "bbcc7834-3c8f-45da-ac6d-341e9e4e605f",
   "metadata": {},
   "outputs": [],
   "source": [
    "torch.save(model.state_dict(), \"translator_model_English_to_Marathi.pth\")\n",
    "pickle.dump(eng_vocab, open(\"eng_vocab.pkl\", \"wb\"))\n",
    "pickle.dump(mr_vocab, open(\"mr_vocab.pkl\", \"wb\"))\n"
   ]
  },
  {
   "cell_type": "code",
   "execution_count": 24,
   "id": "a6b77580-32c2-457e-92c2-bd64b7f9b56e",
   "metadata": {},
   "outputs": [],
   "source": [
    "def translate_sentence(model, sentence, eng_vocab, mr_vocab, max_len=10, device=\"cuda\"):\n",
    "    model.eval()\n",
    "    tokens = word_tokenize(sentence.lower())\n",
    "    encoded = [eng_vocab.get(word, 0) for word in tokens]\n",
    "    padded = encoded + [0] * (max_len - len(encoded)) if len(encoded) < max_len else encoded[:max_len]\n",
    "    input_tensor = torch.tensor([padded], dtype=torch.long).to(device)\n",
    "\n",
    "    with torch.no_grad():\n",
    "        output = model(input_tensor)\n",
    "    \n",
    "    predicted_tokens = output.argmax(2).squeeze().tolist()\n",
    "    rev_mr_vocab = {idx: word for word, idx in mr_vocab.items()}\n",
    "    translated_sentence = \" \".join([rev_mr_vocab.get(idx, \"\") for idx in predicted_tokens])\n",
    "\n",
    "    return translated_sentence\n"
   ]
  },
  {
   "cell_type": "code",
   "execution_count": 25,
   "id": "a4f642c7-201e-499a-8546-a43cd50fd890",
   "metadata": {},
   "outputs": [
    {
     "name": "stdout",
     "output_type": "stream",
     "text": [
      "Translation: त कस आहस <PAD> <PAD> <PAD> <PAD> <PAD> <PAD> <PAD>\n"
     ]
    }
   ],
   "source": [
    "\n",
    "# Example usage\n",
    "loaded_model = LSTMTranslator(len(eng_vocab), 128, 512, len(mr_vocab)).to(device)\n",
    "loaded_model.load_state_dict(torch.load(\"translator_model_English_to_Marathi.pth\"))\n",
    "loaded_model.eval()\n",
    "\n",
    "example_sentence = \"how are you\"\n",
    "predicted_translation = translate_sentence(loaded_model, example_sentence, eng_vocab, mr_vocab, device=device)\n",
    "print(f\"Translation: {predicted_translation}\")"
   ]
  },
  {
   "cell_type": "code",
   "execution_count": null,
   "id": "899b8c72-0532-4d6b-af43-2b2667e8b8f7",
   "metadata": {},
   "outputs": [],
   "source": []
  }
 ],
 "metadata": {
  "kernelspec": {
   "display_name": "Python 3 (ipykernel)",
   "language": "python",
   "name": "python3"
  },
  "language_info": {
   "codemirror_mode": {
    "name": "ipython",
    "version": 3
   },
   "file_extension": ".py",
   "mimetype": "text/x-python",
   "name": "python",
   "nbconvert_exporter": "python",
   "pygments_lexer": "ipython3",
   "version": "3.12.9"
  }
 },
 "nbformat": 4,
 "nbformat_minor": 5
}
